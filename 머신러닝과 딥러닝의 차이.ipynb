{
 "cells": [
  {
   "metadata": {},
   "cell_type": "markdown",
   "source": [
    "# 인공지능, 머신러닝 그리고 딥러닝\n",
    "\n",
    "1. 인공지능 : 사고나 학습과 같은 지적 능력을 기계에 모방하여 구현한 기술의 총칭\n",
    "2. 머신러닝: 데이터로 부터 유의미한 패턴을 스스로 학습하는 기술 및 방법\n",
    "3. 딥러닝: 인간의 뉴런과 유사하게 인공신경망 이용하여 구성된 인공지능 세부 분류\n",
    "\n",
    "## 신경세포의 구조\n",
    "- 신경세포의 구조는 수상돌기에서 신호를 받고 처리하여 축삭에서 신호를 전달\n",
    "- 컴퓨터에서 보면 수상돌기가 컴퓨터에서 입력이라고 보고 축삭말단이 출력이라고 보면 될것이다.\n",
    "\n",
    "## 머신러닝 퍼셉트론\n",
    "- 입력 -> 가중치 -> 활성 함수\n",
    "- 입력 : X (input)\n",
    "- 가중치: w (패턴, Weight)\n",
    "- 출력: Y (Output)\n",
    "- 편향: b (bias)\n",
    "- 활성 함수: 액티베이션\n",
    "- 기본 공식\n",
    "\n",
    "$Y = wX + b$\n",
    "\n",
    "|머신러닝|비교사항|딥러닝\n",
    "|---|---|---|\n",
    "|태스크별 설계 필요|학습방식|스스로탐지 / 결정|\n",
    "|비교적 적음|데이터 요구량|높음|\n",
    "|비교적 적음|계산 요구량|높음|\n",
    "|높음|설명력|낮음(블랙박스)\n",
    "\n",
    "\n",
    "## 머신러닝의 정의\n",
    "- 머신러닝은 인공지능의 하위 개념으로 , 기계가 패턴을 학습하는 개념을 의미\n",
    "    - 직관적이고 단순한 구조, 다만 신경망 구성이 심층적이지는 않아서, 각 태스크에 따라서 모델 설계를 직접 해야함\n",
    "\n",
    "## 딥러닝의 정의\n",
    "- 반면, 딥러닝은 머신러닝의 하위 개념으로 인공 신경망 계층으로 데이터에 맞게 스스로 학습\n",
    "    - 머신러닝에서 더 나아가서 신경망을 계층적으로 쌓아서 스스로 다양한 패턴에 대응하도록 구성됨."
   ],
   "id": "fa15fdd037ad3eb7"
  },
  {
   "metadata": {},
   "cell_type": "markdown",
   "source": "",
   "id": "5f74f3aa9a37463b"
  },
  {
   "metadata": {},
   "cell_type": "code",
   "outputs": [],
   "execution_count": null,
   "source": "",
   "id": "136af2c71444c30b"
  }
 ],
 "metadata": {
  "kernelspec": {
   "display_name": "Python 3",
   "language": "python",
   "name": "python3"
  },
  "language_info": {
   "codemirror_mode": {
    "name": "ipython",
    "version": 2
   },
   "file_extension": ".py",
   "mimetype": "text/x-python",
   "name": "python",
   "nbconvert_exporter": "python",
   "pygments_lexer": "ipython2",
   "version": "2.7.6"
  }
 },
 "nbformat": 4,
 "nbformat_minor": 5
}
