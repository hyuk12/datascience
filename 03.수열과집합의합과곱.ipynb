{
 "cells": [
  {
   "metadata": {},
   "cell_type": "markdown",
   "source": [
    "# 수열\n",
    "수열 (sequence)은 $N$개 숫자 또는 변수가 순서대로 나열된 것\n",
    "순서를 아는 데이터이거나 중요한 경우\n",
    "\n",
    "\n",
    "# 집합\n",
    "순서가 중요하지 않은 숫자들 집합(set) 으로 표시\n",
    "\n",
    "# 수열의 합과 곱\n",
    "\n",
    "컴퓨터적으로 생각하면 loop, iteration을 한 후 reduce(연산하겠다)\n",
    "시그마가 sum, 파이가 production\n"
   ],
   "id": "90217175c26a19ed"
  },
  {
   "metadata": {},
   "cell_type": "code",
   "outputs": [],
   "execution_count": null,
   "source": "",
   "id": "c9471d4256fd4f21"
  }
 ],
 "metadata": {
  "kernelspec": {
   "display_name": "Python 3",
   "language": "python",
   "name": "python3"
  },
  "language_info": {
   "codemirror_mode": {
    "name": "ipython",
    "version": 2
   },
   "file_extension": ".py",
   "mimetype": "text/x-python",
   "name": "python",
   "nbconvert_exporter": "python",
   "pygments_lexer": "ipython2",
   "version": "2.7.6"
  }
 },
 "nbformat": 4,
 "nbformat_minor": 5
}
