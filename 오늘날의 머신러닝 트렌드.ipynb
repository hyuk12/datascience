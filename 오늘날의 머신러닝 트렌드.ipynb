{
 "cells": [
  {
   "metadata": {},
   "cell_type": "markdown",
   "source": [
    "# 컴퓨터 비전\n",
    "- 이미지와 영상을 가지고 어떤 것을 할 수 있을까?\n",
    "    - 랜드마크 인식\n",
    "    - 객체 인식\n",
    "    - 이미지 생성\n",
    "    - 고해상도 변환\n",
    "- SAM (Segment Anything Model)\n",
    "- 생성형 AI (Stable Diffusion)\n",
    "\n",
    "# 자연어 처리\n",
    "- 텍스트를 가지고 무엇을 할 수 있을까?\n",
    "    - 기계 번역 (한국어를 포르투칼어로)\n",
    "    - 분류\n",
    "    - 챗봇\n",
    "    - 분석\n",
    "- Large Language Model\n",
    "\n",
    "# 오디오 신호 처리\n",
    "- Audio / Digital signal processing(DSP)\n",
    "    - 음성 인식\n",
    "    - 음성 합성\n",
    "    - 음성 분리\n",
    "    - 음성 변환\n",
    "\n",
    "# 추천 시스템\n",
    "- 어떤 아이템을 추천해야 [효과]가 좋을까?\n",
    "    - 상품 추천 -> 구매 전환율\n",
    "    - 미디어(노래, 영화) 추천 -> 시청율, 재 방문율(retention)\n",
    "    - 교육 자료 추천 -> 학습 능률, 기억 지속 시간\n",
    "    - 검색 추천 -> 클릭율, 만족도\n",
    "\n",
    "# 머신러닝 도구 생태계\n",
    "- 클라우드 서비스 제공자\n",
    "    - 구글 클라우드 플랫폼, Vertex AI\n",
    "- 머신러닝 프레임워크\n",
    "    - PyTorch, Lightning AI\n",
    "- 컨테이너 오케스트레이션\n",
    "    - Kubernetes\n",
    "        - Kubeflow\n"
   ],
   "id": "e5ef82b8e9d5e747"
  },
  {
   "metadata": {},
   "cell_type": "code",
   "outputs": [],
   "execution_count": null,
   "source": "",
   "id": "e4e555e71cc03354"
  }
 ],
 "metadata": {
  "kernelspec": {
   "display_name": "Python 3",
   "language": "python",
   "name": "python3"
  },
  "language_info": {
   "codemirror_mode": {
    "name": "ipython",
    "version": 2
   },
   "file_extension": ".py",
   "mimetype": "text/x-python",
   "name": "python",
   "nbconvert_exporter": "python",
   "pygments_lexer": "ipython2",
   "version": "2.7.6"
  }
 },
 "nbformat": 4,
 "nbformat_minor": 5
}
