{
 "cells": [
  {
   "metadata": {},
   "cell_type": "markdown",
   "source": [
    "# 학습순서\n",
    "\n",
    "1. Tensor\n",
    "    - PyTorch의 Tensor 개념이해\n",
    "    - Tensor 연산 실습\n",
    "2. nn.Module\n",
    "    - 신경망 구성을 위한 모듈 이해\n",
    "    - MNIST 샘플 신경망 구성\n",
    "3. Training with PyTorch\n",
    "    - MNIST 학습 데이터셋 이용하여 모델 학습\n",
    "    - 학습된 모델 평가\n",
    "4. TorchServe\n",
    "    - 학습한 모델 추론(Inference)\n",
    "    - TorchServe를 통한 모델 서빙\n",
    "5. 최적화 알고리즘\n",
    "    - SGD, Adam 알고리즘 이해\n",
    "    - Cross Entropy, MSE 등의 Loss Function 이해"
   ],
   "id": "4026d4402f140efd"
  },
  {
   "metadata": {},
   "cell_type": "markdown",
   "source": [
    "# PyTorch Tensor 종류\n",
    "\n",
    "1. 스칼라 (단일)\n",
    "2. 벡터 (1차원)\n",
    "3. 매트릭스(2차원)\n",
    "4. 3D Tensor (Cube)\n",
    "\n",
    "# PyTorch Tensor 연산\n",
    "- Pytorch는 Tensor 단위를 이용하여 연산이 가능하다.\n",
    "\n",
    "```python\n",
    "x = torch.tensor([1, 2, 3])\n",
    "y = torch.tensor([4, 5, 6])\n",
    "\n",
    "# 덧셈\n",
    "z1 = x + y\n",
    "print(z1) # tensor([5, 7, 9])\n",
    "```"
   ],
   "id": "a1b8e1a3d25d2c31"
  },
  {
   "metadata": {},
   "cell_type": "code",
   "source": [
    "# 실습 하기 위해 PyTorch 를 다운로드\n",
    "!pip install torch torchvision torchaudio\n",
    "import torch"
   ],
   "id": "d38aada51705cf37",
   "outputs": [],
   "execution_count": null
  },
  {
   "metadata": {},
   "cell_type": "code",
   "source": "import torch",
   "id": "edc6b9c3518bea19",
   "outputs": [],
   "execution_count": null
  },
  {
   "metadata": {},
   "cell_type": "code",
   "source": "",
   "id": "d35b2c07e4131390",
   "outputs": [],
   "execution_count": null
  }
 ],
 "metadata": {
  "kernelspec": {
   "display_name": "Python 3",
   "language": "python",
   "name": "python3"
  },
  "language_info": {
   "codemirror_mode": {
    "name": "ipython",
    "version": 2
   },
   "file_extension": ".py",
   "mimetype": "text/x-python",
   "name": "python",
   "nbconvert_exporter": "python",
   "pygments_lexer": "ipython2",
   "version": "2.7.6"
  }
 },
 "nbformat": 4,
 "nbformat_minor": 5
}
