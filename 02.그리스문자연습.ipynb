{
 "cells": [
  {
   "metadata": {},
   "cell_type": "markdown",
   "source": [
    "# 디스플레이 수식, 인라인 수식 존재.\n",
    "\n",
    "인라인 수식은 달러와 달러 사이\n",
    "디스플레이 수식은 더블 달러 와 더블 달러 사이\n",
    "\n",
    "$\\alpha 와 \\beta$ 값이 같다"
   ],
   "id": "ec4f1daf53af26e"
  },
  {
   "metadata": {},
   "cell_type": "markdown",
   "source": "$$\\alpha 와 \\beta 값이 같다$$",
   "id": "9c05c56f41032c09"
  },
  {
   "metadata": {},
   "cell_type": "markdown",
   "source": "",
   "id": "173ce42b1809a21d"
  }
 ],
 "metadata": {
  "kernelspec": {
   "display_name": "Python 3",
   "language": "python",
   "name": "python3"
  },
  "language_info": {
   "codemirror_mode": {
    "name": "ipython",
    "version": 2
   },
   "file_extension": ".py",
   "mimetype": "text/x-python",
   "name": "python",
   "nbconvert_exporter": "python",
   "pygments_lexer": "ipython2",
   "version": "2.7.6"
  }
 },
 "nbformat": 4,
 "nbformat_minor": 5
}
